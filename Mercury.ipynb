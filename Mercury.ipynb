{
 "cells": [
  {
   "cell_type": "markdown",
   "id": "54474ed4-f52b-4048-ab0c-946b39a6e5b5",
   "metadata": {},
   "source": [
    "# Deploying Mercury using AWS Jumpstart\n",
    "\n",
    "This notebook shows how you can deploy Mercury as a Sagemaker Endpoint with AWS Jumpstart. \n",
    "\n",
    "## Prerequisites\n",
    "\n",
    "1. This notebook must be opened from an Amazon SageMaker Notebook Instance or Amazon SageMaker Studio \n",
    "2. Ensure that your IAM role has AmazonSageMakerFullAccess\n",
    "\n",
    "**Note**: It is possible to run this notebook on a local machine if you manually set the `role_arn` to an IAM role with AmazonSagemakerFullAccess permissions."
   ]
  },
  {
   "cell_type": "markdown",
   "id": "b3d7b651-4c1f-4d4a-83ca-436eadd15702",
   "metadata": {},
   "source": [
    "## Step 1: Subscribe to the model package\n",
    "\n",
    "To subscribe to Mercury:\n",
    "\n",
    "1. Open the Mercury listing: [Mercury - Sagemaker Marketplace](https://aws.amazon.com/marketplace/pp/prodview-ycpatnhxuxgfa)\n",
    "2. Click on **Continue to subscribe**.\n",
    "3. Accept the offer on the next page after reviewing the EULA, pricing and support terms."
   ]
  },
  {
   "cell_type": "markdown",
   "id": "d8a53153-6788-4a79-b768-4194d5c54812",
   "metadata": {},
   "source": [
    "## Step 2: Create an endpoint"
   ]
  },
  {
   "cell_type": "code",
   "execution_count": 1,
   "id": "1f62be27-486f-4809-a608-687c9e89f306",
   "metadata": {
    "execution": {
     "iopub.execute_input": "2025-07-08T14:59:20.372912Z",
     "iopub.status.busy": "2025-07-08T14:59:20.372690Z",
     "iopub.status.idle": "2025-07-08T14:59:22.601177Z",
     "shell.execute_reply": "2025-07-08T14:59:22.600489Z",
     "shell.execute_reply.started": "2025-07-08T14:59:20.372892Z"
    }
   },
   "outputs": [
    {
     "name": "stdout",
     "output_type": "stream",
     "text": [
      "sagemaker.config INFO - Not applying SDK defaults from location: /etc/xdg/sagemaker/config.yaml\n",
      "sagemaker.config INFO - Not applying SDK defaults from location: /home/sagemaker-user/.config/sagemaker/config.yaml\n"
     ]
    }
   ],
   "source": [
    "# import necessary packages and set the correcr region and execution role\n",
    "\n",
    "import sagemaker\n",
    "from sagemaker import ModelPackage, get_execution_role\n",
    "import boto3\n",
    "from sagemaker.utils import name_from_base\n",
    "from time import perf_counter\n",
    "\n",
    "region = boto3.Session().region_name\n",
    "role_arn = get_execution_role()\n",
    "sagemaker_session = sagemaker.Session()"
   ]
  },
  {
   "cell_type": "code",
   "execution_count": null,
   "id": "06470560-e3f2-4848-bbab-660ec4bf9692",
   "metadata": {
    "execution": {
     "iopub.execute_input": "2025-07-08T14:59:22.602928Z",
     "iopub.status.busy": "2025-07-08T14:59:22.602355Z",
     "iopub.status.idle": "2025-07-08T14:59:22.608032Z",
     "shell.execute_reply": "2025-07-08T14:59:22.607336Z",
     "shell.execute_reply.started": "2025-07-08T14:59:22.602894Z"
    }
   },
   "outputs": [],
   "source": [
    "# Set the correct model package ARN corresponding to your region\n",
    "\n",
    "model_package_map = {\n",
    "    \"us-east-1\": \"arn:aws:sagemaker:us-east-1:865070037744:model-package/mercury-07172025-03cb9fd1240a3c57a5de87fa31d146ab\",\n",
    "    \"us-east-2\": \"arn:aws:sagemaker:us-east-2:057799348421:model-package/mercury-07172025-03cb9fd1240a3c57a5de87fa31d146ab\",\n",
    "    \"us-west-1\": \"arn:aws:sagemaker:us-west-1:382657785993:model-package/mercury-07172025-03cb9fd1240a3c57a5de87fa31d146ab\",\n",
    "    \"us-west-2\": \"arn:aws:sagemaker:us-west-2:594846645681:model-package/mercury-07172025-03cb9fd1240a3c57a5de87fa31d146ab\",\n",
    "    \"ca-central-1\": \"arn:aws:sagemaker:ca-central-1:470592106596:model-package/mercury-07172025-03cb9fd1240a3c57a5de87fa31d146ab\",\n",
    "    \"eu-central-1\": \"arn:aws:sagemaker:eu-central-1:446921602837:model-package/mercury-07172025-03cb9fd1240a3c57a5de87fa31d146ab\",\n",
    "    \"eu-west-1\": \"arn:aws:sagemaker:eu-west-1:985815980388:model-package/mercury-07172025-03cb9fd1240a3c57a5de87fa31d146ab\",\n",
    "    \"eu-west-2\": \"arn:aws:sagemaker:eu-west-2:856760150666:model-package/mercury-07172025-03cb9fd1240a3c57a5de87fa31d146ab\",\n",
    "    \"eu-west-3\": \"arn:aws:sagemaker:eu-west-3:843114510376:model-package/mercury-07172025-03cb9fd1240a3c57a5de87fa31d146ab\",\n",
    "    \"eu-north-1\": \"arn:aws:sagemaker:eu-north-1:136758871317:model-package/mercury-07172025-03cb9fd1240a3c57a5de87fa31d146ab\",\n",
    "    \"ap-southeast-1\": \"arn:aws:sagemaker:ap-southeast-1:192199979996:model-package/mercury-07172025-03cb9fd1240a3c57a5de87fa31d146ab\",\n",
    "    \"ap-southeast-2\": \"arn:aws:sagemaker:ap-southeast-2:666831318237:model-package/mercury-07172025-03cb9fd1240a3c57a5de87fa31d146ab\",\n",
    "    \"ap-northeast-2\": \"arn:aws:sagemaker:ap-northeast-2:745090734665:model-package/mercury-07172025-03cb9fd1240a3c57a5de87fa31d146ab\",\n",
    "    \"ap-northeast-1\": \"arn:aws:sagemaker:ap-northeast-1:977537786026:model-package/mercury-07172025-03cb9fd1240a3c57a5de87fa31d146ab\",\n",
    "    \"ap-south-1\": \"arn:aws:sagemaker:ap-south-1:077584701553:model-package/mercury-07172025-03cb9fd1240a3c57a5de87fa31d146ab\",\n",
    "    \"sa-east-1\": \"arn:aws:sagemaker:sa-east-1:270155090741:model-package/mercury-07172025-03cb9fd1240a3c57a5de87fa31d146ab\",\n",
    "}\n",
    "\n",
    "if region not in model_package_map:\n",
    "    raise Exception(\"UNSUPPORTED REGION\")\n",
    "\n",
    "package_arn = model_package_map[region]"
   ]
  },
  {
   "cell_type": "code",
   "execution_count": 3,
   "id": "bcd62475-b436-48a3-9c92-8c20fd9ca25b",
   "metadata": {
    "execution": {
     "iopub.execute_input": "2025-07-08T14:59:22.609529Z",
     "iopub.status.busy": "2025-07-08T14:59:22.609000Z",
     "iopub.status.idle": "2025-07-08T14:59:22.614062Z",
     "shell.execute_reply": "2025-07-08T14:59:22.613403Z",
     "shell.execute_reply.started": "2025-07-08T14:59:22.609500Z"
    }
   },
   "outputs": [],
   "source": [
    "# Create the model package\n",
    "\n",
    "endpoint_name = name_from_base(\"mercury-endpoint\")  # set this to your liking\n",
    "model = ModelPackage(role=role_arn, model_package_arn=package_arn, sagemaker_session=sagemaker_session)"
   ]
  },
  {
   "cell_type": "code",
   "execution_count": 4,
   "id": "9c8ab251-2f62-411a-8228-851ed0d2e903",
   "metadata": {
    "execution": {
     "iopub.execute_input": "2025-07-08T14:59:22.616216Z",
     "iopub.status.busy": "2025-07-08T14:59:22.615742Z",
     "iopub.status.idle": "2025-07-08T15:08:25.406503Z",
     "shell.execute_reply": "2025-07-08T15:08:25.405843Z",
     "shell.execute_reply.started": "2025-07-08T14:59:22.616188Z"
    }
   },
   "outputs": [
    {
     "name": "stdout",
     "output_type": "stream",
     "text": [
      "-----------------!\n",
      "Deployment took 542.79 seconds\n"
     ]
    }
   ],
   "source": [
    "# Deploy the Model. This may take 5-10 minutes to run\n",
    "\n",
    "instance_type = \"ml.p5.48xlarge\"  # We only support ml.p5.48xlarge instances at the moment\n",
    "start = perf_counter()\n",
    "deployed_model = model.deploy(initial_instance_count=1, instance_type=instance_type, endpoint_name=endpoint_name)\n",
    "print(f\"\\nDeployment took {perf_counter() - start:.2f} seconds\")"
   ]
  },
  {
   "cell_type": "markdown",
   "id": "1ca19569-03d6-4d76-949c-d9dacf4d817d",
   "metadata": {},
   "source": [
    "## Step 3: Run real-time inference on the new endpoint"
   ]
  },
  {
   "cell_type": "code",
   "execution_count": 5,
   "id": "5f7f5d8b-f9e6-4de0-9ab7-5d87ebb1b865",
   "metadata": {
    "execution": {
     "iopub.execute_input": "2025-07-08T15:21:40.756880Z",
     "iopub.status.busy": "2025-07-08T15:21:40.756514Z",
     "iopub.status.idle": "2025-07-08T15:21:40.760484Z",
     "shell.execute_reply": "2025-07-08T15:21:40.759804Z",
     "shell.execute_reply.started": "2025-07-08T15:21:40.756855Z"
    }
   },
   "outputs": [],
   "source": [
    "# Create a simple Sagemaker predictor\n",
    "\n",
    "predictor = sagemaker.Predictor(\n",
    "    endpoint_name=endpoint_name,\n",
    "    sagemaker_session=sagemaker_session,\n",
    "    serializer=sagemaker.serializers.JSONSerializer(),\n",
    "    deserializer=sagemaker.deserializers.JSONDeserializer(),\n",
    ")"
   ]
  },
  {
   "cell_type": "code",
   "execution_count": 6,
   "id": "c47f1da8-6870-469e-9299-756e11f30beb",
   "metadata": {
    "execution": {
     "iopub.execute_input": "2025-07-08T15:21:45.305352Z",
     "iopub.status.busy": "2025-07-08T15:21:45.305071Z",
     "iopub.status.idle": "2025-07-08T15:21:46.677553Z",
     "shell.execute_reply": "2025-07-08T15:21:46.676770Z",
     "shell.execute_reply.started": "2025-07-08T15:21:45.305331Z"
    }
   },
   "outputs": [
    {
     "name": "stdout",
     "output_type": "stream",
     "text": [
      "Speed: 589.37 tokens / second\n",
      "\n",
      "Creating a Pomodoro app backend in Python involves setting up a simple server that can handle requests for starting, stopping, and tracking Pomodoro sessions. Below is a basic example using Flask, a lightweight web framework for Python. This example will include endpoints to start a Pomodoro session, stop it, and get the current status.\n",
      "\n",
      "First, ensure you have Flask installed. You can install it using pip:\n",
      "\n",
      "```bash\n",
      "pip install Flask\n",
      "```\n",
      "\n",
      "Now, let's create the backend:\n",
      "\n",
      "```python\n",
      "from flask import Flask, jsonify\n",
      "import time\n",
      "import threading\n",
      "\n",
      "app = Flask(__name__)\n",
      "\n",
      "# Global variables to track the Pomodoro session\n",
      "pomodoro_session = None\n",
      "start_time = None\n",
      "is_running = False\n",
      "\n",
      "def start_pomodoro():\n",
      "    global start_time, is_running\n",
      "    start_time = time.time()\n",
      "    is_running = True\n",
      "    print(\"Pomodoro started.\")\n",
      "    # Simulate a 25-minute Pomodoro session\n",
      "    time.sleep(25 * 60)\n",
      "    stop_pomodoro()\n",
      "\n",
      "def stop_pomodoro():\n",
      "    global is_running\n",
      "    is_running = False\n",
      "    print(\"Pomodoro stopped.\")\n",
      "\n",
      "@app.route('/start', methods=['POST'])\n",
      "def start():\n",
      "    global pomodoro_session\n",
      "    if is_running:\n",
      "        return jsonify({'message': 'Pomodoro is already running'}), 400\n",
      "    pomodoro_session = threading.Thread(target=start_pomodoro)\n",
      "    pomodoro_session.start()\n",
      "    return jsonify({'message': 'Pomodoro started'}), 200\n",
      "\n",
      "@app.route('/stop', methods=['POST'])\n",
      "def stop():\n",
      "    global is_running\n",
      "    if not is_running:\n",
      "        return jsonify({'message': 'Pomodoro is not running'}), 400\n",
      "    stop_pomodoro()\n",
      "    return jsonify({'message': 'Pomodoro stopped'}), 200\n",
      "\n",
      "@app.route('/status', methods=['GET'])\n",
      "def status():\n",
      "    global is_running\n",
      "    if is_running:\n",
      "        elapsed_time = time.time() - start_time\n",
      "        minutes = int(elapsed_time // 60)\n",
      "        seconds = int(elapsed_time % 60)\n",
      "        return jsonify({'status': 'running', 'time': f'{minutes} minutes {seconds} seconds'}), 200\n",
      "    else:\n",
      "        return jsonify({'status': 'stopped'}), 200\n",
      "\n",
      "if __name__ == '__main__':\n",
      "    app.run(debug=True)\n",
      "```\n",
      "\n",
      "### Explanation:\n",
      "\n",
      "1. **Flask Setup**: We use Flask to create a simple web server with endpoints for starting, stopping, and checking the status of a Pomodoro session.\n",
      "\n",
      "2. **Global Variables**: \n",
      "   - `pomodoro_session`: Stores the thread object for the Pomodoro session.\n",
      "   - `start_time`: Records the time when the Pomodoro session starts.\n",
      "   - `is_running`: A boolean flag to indicate whether a Pomodoro session is currently running.\n",
      "\n",
      "3. **Functions**:\n",
      "   - `start_pomodoro()`: Starts the Pomodoro session, sets the start time, and simulates a 25-minute session using `time.sleep()`.\n",
      "   - `stop_pomodoro()`: Stops the Pomodoro session by setting `is_running` to `False`.\n",
      "\n",
      "4. **Endpoints**:\n",
      "   - `/start`: Starts a new Pomodoro session if one is not already running.\n",
      "   - `/stop`: Stops the current Pomodoro session if it is running.\n",
      "   - `/status`: Returns the current status of the Pomodoro session, including the elapsed time if it is running.\n",
      "\n",
      "5. **Threading**: We use Python's `threading` module to run the Pomodoro session in a separate thread, allowing the server to handle other requests concurrently.\n",
      "\n",
      "This is a basic implementation and can be expanded with additional features such as user authentication, session persistence, and more sophisticated time tracking.\n"
     ]
    }
   ],
   "source": [
    "# Run inference\n",
    "\n",
    "payload = {\n",
    "    \"messages\": [\n",
    "        {\n",
    "            \"role\": \"user\",\n",
    "            \"content\": \"Write a pomodoro app backend in python\",\n",
    "        },\n",
    "    ],\n",
    "    \"max_tokens\": 2048,\n",
    "}\n",
    "start = perf_counter()\n",
    "outputs = predictor.predict(payload)\n",
    "eta = perf_counter() - start\n",
    "print(f\"Speed: {outputs['usage']['completion_tokens'] / eta:.2f} tokens / second\\n\")\n",
    "print(outputs[\"choices\"][0][\"message\"][\"content\"])"
   ]
  },
  {
   "cell_type": "markdown",
   "id": "a53d0ef9-67c6-43f5-86f6-edb031c280b9",
   "metadata": {},
   "source": [
    "# Step 4: Cleanup (optional)"
   ]
  },
  {
   "cell_type": "code",
   "execution_count": 7,
   "id": "79b37366-b2d6-47c7-a2b9-396dd5478a94",
   "metadata": {
    "execution": {
     "iopub.execute_input": "2025-07-08T15:21:56.908633Z",
     "iopub.status.busy": "2025-07-08T15:21:56.908279Z",
     "iopub.status.idle": "2025-07-08T15:21:57.046513Z",
     "shell.execute_reply": "2025-07-08T15:21:57.045720Z",
     "shell.execute_reply.started": "2025-07-08T15:21:56.908609Z"
    }
   },
   "outputs": [],
   "source": [
    "# Delete the endpoint\n",
    "\n",
    "sagemaker_session.delete_endpoint(endpoint_name)"
   ]
  }
 ],
 "metadata": {
  "kernelspec": {
   "display_name": "Python 3 (ipykernel)",
   "language": "python",
   "name": "python3"
  },
  "language_info": {
   "codemirror_mode": {
    "name": "ipython",
    "version": 3
   },
   "file_extension": ".py",
   "mimetype": "text/x-python",
   "name": "python",
   "nbconvert_exporter": "python",
   "pygments_lexer": "ipython3",
   "version": "3.12.9"
  }
 },
 "nbformat": 4,
 "nbformat_minor": 5
}
