{
 "cells": [
  {
   "cell_type": "markdown",
   "id": "54474ed4-f52b-4048-ab0c-946b39a6e5b5",
   "metadata": {},
   "source": [
    "# Deploying Mercury-Coder using AWS Jumpstart\n",
    "\n",
    "This notebook shows how you can deploy Mercury Coder as a Sagemaker Endpoint with AWS Jumpstart. \n",
    "\n",
    "## Prerequisites\n",
    "\n",
    "1. This notebook must be opened from an Amazon SageMaker Notebook Instance or Amazon SageMaker Studio \n",
    "2. Ensure that your IAM role has AmazonSageMakerFullAccess\n",
    "\n",
    "**Note**: It is possible to run this notebook on a local machine if you manually set the `role_arn` to an IAM role with AmazonSagemakerFullAccess permissions."
   ]
  },
  {
   "cell_type": "markdown",
   "id": "b3d7b651-4c1f-4d4a-83ca-436eadd15702",
   "metadata": {},
   "source": [
    "## Step 1: Subscribe to the model package\n",
    "\n",
    "To subscribe to Mercury-Coder:\n",
    "\n",
    "1. Open the Mercury listing: [Mercury Coder - Sagemaker Marketplace](https://aws.amazon.com/marketplace/pp/prodview-qnkxatxcm4l7o)\n",
    "2. Click on **Continue to subscribe**.\n",
    "3. Accept the offer on the next page after reviewing the EULA, pricing and support terms."
   ]
  },
  {
   "cell_type": "markdown",
   "id": "d8a53153-6788-4a79-b768-4194d5c54812",
   "metadata": {},
   "source": [
    "## Step 2: Create an endpoint"
   ]
  },
  {
   "cell_type": "code",
   "execution_count": 1,
   "id": "1f62be27-486f-4809-a608-687c9e89f306",
   "metadata": {
    "execution": {
     "iopub.execute_input": "2025-07-08T07:18:45.456793Z",
     "iopub.status.busy": "2025-07-08T07:18:45.456403Z",
     "iopub.status.idle": "2025-07-08T07:18:47.866248Z",
     "shell.execute_reply": "2025-07-08T07:18:47.865426Z",
     "shell.execute_reply.started": "2025-07-08T07:18:45.456769Z"
    }
   },
   "outputs": [
    {
     "name": "stdout",
     "output_type": "stream",
     "text": [
      "sagemaker.config INFO - Not applying SDK defaults from location: /etc/xdg/sagemaker/config.yaml\n",
      "sagemaker.config INFO - Not applying SDK defaults from location: /home/sagemaker-user/.config/sagemaker/config.yaml\n"
     ]
    }
   ],
   "source": [
    "# import necessary packages and set the correcr region and execution role\n",
    "\n",
    "import sagemaker\n",
    "from sagemaker import ModelPackage, get_execution_role\n",
    "import boto3\n",
    "from sagemaker.utils import name_from_base\n",
    "from time import perf_counter\n",
    "\n",
    "region = boto3.Session().region_name\n",
    "role_arn = get_execution_role()\n",
    "sagemaker_session = sagemaker.Session()"
   ]
  },
  {
   "cell_type": "code",
   "execution_count": 2,
   "id": "06470560-e3f2-4848-bbab-660ec4bf9692",
   "metadata": {
    "execution": {
     "iopub.execute_input": "2025-07-08T07:18:50.865974Z",
     "iopub.status.busy": "2025-07-08T07:18:50.865318Z",
     "iopub.status.idle": "2025-07-08T07:18:50.870960Z",
     "shell.execute_reply": "2025-07-08T07:18:50.870056Z",
     "shell.execute_reply.started": "2025-07-08T07:18:50.865941Z"
    }
   },
   "outputs": [],
   "source": [
    "# Set the correct model package ARN corresponding to your region\n",
    "\n",
    "model_package_map = {\n",
    "    \"us-east-1\": \"arn:aws:sagemaker:us-east-1:865070037744:model-package/mercury-coder-7990ba9bf79b3bb29597dd86491bb42a\",\n",
    "    \"us-east-2\": \"arn:aws:sagemaker:us-east-2:057799348421:model-package/mercury-coder-7990ba9bf79b3bb29597dd86491bb42a\",\n",
    "    \"us-west-1\": \"arn:aws:sagemaker:us-west-1:382657785993:model-package/mercury-coder-7990ba9bf79b3bb29597dd86491bb42a\",\n",
    "    \"us-west-2\": \"arn:aws:sagemaker:us-west-2:594846645681:model-package/mercury-coder-7990ba9bf79b3bb29597dd86491bb42a\",\n",
    "    \"ca-central-1\": \"arn:aws:sagemaker:ca-central-1:470592106596:model-package/mercury-coder-7990ba9bf79b3bb29597dd86491bb42a\",\n",
    "    \"ca-central-1\": \"arn:aws:sagemaker:ca-central-1:470592106596:model-package/mercury-coder-7990ba9bf79b3bb29597dd86491bb42a\",\n",
    "    \"eu-west-1\": \"arn:aws:sagemaker:eu-west-1:985815980388:model-package/mercury-coder-7990ba9bf79b3bb29597dd86491bb42a\",\n",
    "    \"eu-west-2\": \"arn:aws:sagemaker:eu-west-2:856760150666:model-package/mercury-coder-7990ba9bf79b3bb29597dd86491bb42a\",\n",
    "    \"eu-west-3\": \"arn:aws:sagemaker:eu-west-3:843114510376:model-package/mercury-coder-7990ba9bf79b3bb29597dd86491bb42a\",\n",
    "    \"eu-north-1\": \"arn:aws:sagemaker:eu-north-1:136758871317:model-package/mercury-coder-7990ba9bf79b3bb29597dd86491bb42a\",\n",
    "    \"ap-southeast-1\": \"arn:aws:sagemaker:ap-southeast-1:192199979996:model-package/mercury-coder-7990ba9bf79b3bb29597dd86491bb42a\",\n",
    "    \"ap-southeast-2\": \"arn:aws:sagemaker:ap-southeast-2:666831318237:model-package/mercury-coder-7990ba9bf79b3bb29597dd86491bb42a\",\n",
    "    \"ap-northeast-2\": \"arn:aws:sagemaker:ap-northeast-2:745090734665:model-package/mercury-coder-7990ba9bf79b3bb29597dd86491bb42a\",\n",
    "    \"ap-northeast-1\": \"arn:aws:sagemaker:ap-northeast-1:977537786026:model-package/mercury-coder-7990ba9bf79b3bb29597dd86491bb42a\",\n",
    "    \"ap-south-1\": \"arn:aws:sagemaker:ap-south-1:077584701553:model-package/mercury-coder-7990ba9bf79b3bb29597dd86491bb42a\",\n",
    "    \"sa-east-1\": \"arn:aws:sagemaker:sa-east-1:270155090741:model-package/mercury-coder-7990ba9bf79b3bb29597dd86491bb42a\",\n",
    "}\n",
    "\n",
    "if region not in model_package_map:\n",
    "    raise Exception(\"UNSUPPORTED REGION\")\n",
    "\n",
    "package_arn = model_package_map[region]"
   ]
  },
  {
   "cell_type": "code",
   "execution_count": 3,
   "id": "bcd62475-b436-48a3-9c92-8c20fd9ca25b",
   "metadata": {
    "execution": {
     "iopub.execute_input": "2025-07-08T07:18:52.817363Z",
     "iopub.status.busy": "2025-07-08T07:18:52.816741Z",
     "iopub.status.idle": "2025-07-08T07:18:52.820536Z",
     "shell.execute_reply": "2025-07-08T07:18:52.820055Z",
     "shell.execute_reply.started": "2025-07-08T07:18:52.817335Z"
    }
   },
   "outputs": [],
   "source": [
    "# Create the model package\n",
    "\n",
    "endpoint_name = name_from_base(\"mercury-coder-endpoint\")  # set this to your liking\n",
    "model = ModelPackage(\n",
    "    role=role_arn, model_package_arn=package_arn, sagemaker_session=sagemaker_session\n",
    ")"
   ]
  },
  {
   "cell_type": "code",
   "execution_count": 4,
   "id": "9c8ab251-2f62-411a-8228-851ed0d2e903",
   "metadata": {
    "execution": {
     "iopub.execute_input": "2025-07-08T07:18:56.643261Z",
     "iopub.status.busy": "2025-07-08T07:18:56.642687Z",
     "iopub.status.idle": "2025-07-08T07:27:59.490871Z",
     "shell.execute_reply": "2025-07-08T07:27:59.490197Z",
     "shell.execute_reply.started": "2025-07-08T07:18:56.643235Z"
    }
   },
   "outputs": [
    {
     "name": "stdout",
     "output_type": "stream",
     "text": [
      "-----------------!\n",
      "Deployment took 542.84 seconds\n"
     ]
    }
   ],
   "source": [
    "# Deploy the Model. This may take 5-10 minutes to run\n",
    "\n",
    "instance_type = \"ml.p5.48xlarge\"  # We only support ml.p5.48xlarge instances at the moment\n",
    "start = perf_counter()\n",
    "deployed_model = model.deploy(\n",
    "    initial_instance_count=1, instance_type=instance_type, endpoint_name=endpoint_name\n",
    ")\n",
    "print(f\"\\nDeployment took {perf_counter() - start:.2f} seconds\")"
   ]
  },
  {
   "cell_type": "markdown",
   "id": "1ca19569-03d6-4d76-949c-d9dacf4d817d",
   "metadata": {},
   "source": [
    "## Step 3: Run real-time inference on the new endpoint"
   ]
  },
  {
   "cell_type": "code",
   "execution_count": 5,
   "id": "5f7f5d8b-f9e6-4de0-9ab7-5d87ebb1b865",
   "metadata": {
    "execution": {
     "iopub.execute_input": "2025-07-08T07:28:01.145660Z",
     "iopub.status.busy": "2025-07-08T07:28:01.145239Z",
     "iopub.status.idle": "2025-07-08T07:28:01.150042Z",
     "shell.execute_reply": "2025-07-08T07:28:01.149204Z",
     "shell.execute_reply.started": "2025-07-08T07:28:01.145629Z"
    }
   },
   "outputs": [],
   "source": [
    "# Create a simple Sagemaker predictor\n",
    "\n",
    "predictor = sagemaker.Predictor(\n",
    "    endpoint_name=endpoint_name,\n",
    "    sagemaker_session=sagemaker_session,\n",
    "    serializer=sagemaker.serializers.JSONSerializer(),\n",
    "    deserializer=sagemaker.deserializers.JSONDeserializer(),\n",
    ")"
   ]
  },
  {
   "cell_type": "code",
   "execution_count": 16,
   "id": "c47f1da8-6870-469e-9299-756e11f30beb",
   "metadata": {
    "execution": {
     "iopub.execute_input": "2025-07-08T07:35:06.347052Z",
     "iopub.status.busy": "2025-07-08T07:35:06.346451Z",
     "iopub.status.idle": "2025-07-08T07:35:07.836220Z",
     "shell.execute_reply": "2025-07-08T07:35:07.835470Z",
     "shell.execute_reply.started": "2025-07-08T07:35:06.347027Z"
    }
   },
   "outputs": [
    {
     "name": "stdout",
     "output_type": "stream",
     "text": [
      "Speed: 666.74 tokens / second\n",
      "\n",
      "============================================================\n",
      "\n",
      "Certainly! Below is a simple implementation of a Pomodoro Timer backend in Python. This backend will handle the core functionality of a Pomodoro Timer, including starting, stopping, and managing the timer.\n",
      "\n",
      "### Pomodoro Timer Backend in Python\n",
      "\n",
      "```python\n",
      "import time\n",
      "import threading\n",
      "\n",
      "class PomodoroTimer:\n",
      "    def __init__(self, work_duration=25, short_break_duration=5, long_break_duration=15, long_break_interval=4):\n",
      "        self.work_duration = work_duration * 60  # Convert to seconds\n",
      "        self.short_break_duration = short_break_duration * 60  # Convert to seconds\n",
      "        self.long_break_duration = long_break_duration * 60  # Convert to seconds\n",
      "        self.long_break_interval = long_break_interval\n",
      "        self.current_duration = self.work_duration\n",
      "        self.current_state = 'work'\n",
      "        self.session_count = 0\n",
      "        self.timer_thread = None\n",
      "        self.running = False\n",
      "\n",
      "    def start(self):\n",
      "        if not self.running:\n",
      "            self.running = True\n",
      "            self.timer_thread = threading.Thread(target=self._run_timer)\n",
      "            self.timer_thread.start()\n",
      "\n",
      "    def stop(self):\n",
      "        self.running = False\n",
      "        if self.timer_thread:\n",
      "            self.timer_thread.join()\n",
      "            self.timer_thread = None\n",
      "\n",
      "    def _run_timer(self):\n",
      "        while self.running:\n",
      "            time.sleep(1)\n",
      "            self.current_duration -= 1\n",
      "            if self.current_duration <= 0:\n",
      "                self._next_state()\n",
      "\n",
      "    def _next_state(self):\n",
      "        if self.current_state == 'work':\n",
      "            self.session_count += 1\n",
      "            if self.session_count % self.long_break_interval == 0:\n",
      "                self.current_state = 'long_break'\n",
      "                self.current_duration = self.long_break_duration\n",
      "            else:\n",
      "                self.current_state = 'short_break'\n",
      "                self.current_duration = self.short_break_duration\n",
      "        elif self.current_state == 'short_break':\n",
      "            self.current_state = 'work'\n",
      "            self.current_duration = self.work_duration\n",
      "        elif self.current_state == 'long_break':\n",
      "            self.current_state = 'work'\n",
      "            self.current_duration = self.work_duration\n",
      "\n",
      "    def get_current_state(self):\n",
      "        return self.current_state\n",
      "\n",
      "    def get_remaining_time(self):\n",
      "        return self.current_duration\n",
      "\n",
      "    def get_session_count(self):\n",
      "        return self.session_count\n",
      "\n",
      "# Example usage\n",
      "if __name__ == \"__main__\":\n",
      "    timer = PomodoroTimer()\n",
      "    timer.start()\n",
      "\n",
      "    try:\n",
      "        while True:\n",
      "            time.sleep(1)\n",
      "            print(f\"State: {timer.get_current_state()}, Remaining Time: {timer.get_remaining_time()} seconds, Session Count: {timer.get_session_count()}\")\n",
      "    except KeyboardInterrupt:\n",
      "        timer.stop()\n",
      "        print(\"Timer stopped.\")\n",
      "```\n",
      "\n",
      "### Explanation\n",
      "\n",
      "1. **Initialization (`__init__` method)**:\n",
      "   - `work_duration`, `short_break_duration`, `long_break_duration`, and `long_break_interval` are set to default values.\n",
      "   - `current_duration` is initialized to the work duration.\n",
      "   - `current_state` is set to 'work'.\n",
      "   - `session_count` is initialized to 0.\n",
      "   - `timer_thread` and `running` are initialized to `None` and `False`, respectively.\n",
      "\n",
      "2. **Start Method (`start` method)**:\n",
      "   - Starts the timer if it is not already running.\n",
      "   - Creates a new thread to run the timer.\n",
      "\n",
      "3. **Stop Method (`stop` method)**:\n",
      "   - Stops the timer and waits for the thread to finish.\n",
      "\n",
      "4. **Run Timer Method (`_run_timer` method)**:\n",
      "   - Runs the timer in a separate thread.\n",
      "   - Decrements the current duration every second.\n",
      "   - Calls `_next_state` when the current duration reaches 0.\n",
      "\n",
      "5. **Next State Method (`_next_state` method)**:\n",
      "   - Transitions to the next state based on the current state and session count.\n",
      "   - If the session count is a multiple of the long break interval, it transitions to a long break.\n",
      "   - Otherwise, it transitions to a short break.\n",
      "\n",
      "6. **Get Current State Method (`get_current_state` method)**:\n",
      "   - Returns the current state of the timer.\n",
      "\n",
      "7. **Get Remaining Time Method (`get_remaining_time` method)**:\n",
      "   - Returns the remaining time in seconds.\n",
      "\n",
      "8. **Get Session Count Method (`get_session_count` method)**:\n",
      "   - Returns the current session count.\n",
      "\n",
      "### Example Usage\n",
      "\n",
      "- The example usage demonstrates how to start the timer and print the current state, remaining time, and session count every second.\n",
      "- The timer can be stopped by pressing `Ctrl+C`.\n",
      "\n",
      "This implementation provides a basic Pomodoro Timer backend. You can extend it with more features such as saving session data, handling different work and break durations, and integrating with a frontend.\n"
     ]
    }
   ],
   "source": [
    "# Run inference\n",
    "\n",
    "payload = {\n",
    "    \"messages\": [\n",
    "        {\n",
    "            \"role\": \"user\",\n",
    "            \"content\": \"Write a pomodoro app backend in python\",\n",
    "        },\n",
    "    ],\n",
    "    \"max_tokens\": 2048,\n",
    "    \"model\": \"mercury-coder\"\n",
    "}\n",
    "start = perf_counter()\n",
    "outputs = predictor.predict(payload)\n",
    "eta = perf_counter() - start\n",
    "print(f\"Speed: {outputs['usage']['completion_tokens'] / eta:.2f} tokens / second\\n\")\n",
    "print(\"=\" * 60)\n",
    "print(f\"\\n{outputs[\"choices\"][0][\"message\"][\"content\"]}\")"
   ]
  },
  {
   "cell_type": "markdown",
   "id": "a53d0ef9-67c6-43f5-86f6-edb031c280b9",
   "metadata": {},
   "source": [
    "# Step 4: Cleanup (optional)"
   ]
  },
  {
   "cell_type": "code",
   "execution_count": 26,
   "id": "79b37366-b2d6-47c7-a2b9-396dd5478a94",
   "metadata": {
    "execution": {
     "iopub.execute_input": "2025-07-07T18:18:45.354569Z",
     "iopub.status.busy": "2025-07-07T18:18:45.354217Z",
     "iopub.status.idle": "2025-07-07T18:18:48.329053Z",
     "shell.execute_reply": "2025-07-07T18:18:48.328367Z",
     "shell.execute_reply.started": "2025-07-07T18:18:45.354542Z"
    }
   },
   "outputs": [],
   "source": [
    "# Delete the endpoint\n",
    "\n",
    "sagemaker_session.delete_endpoint(endpoint_name)"
   ]
  },
  {
   "cell_type": "code",
   "execution_count": null,
   "id": "23df8b00-1f1a-4981-8bbe-e0f2b855724c",
   "metadata": {},
   "outputs": [],
   "source": []
  },
  {
   "cell_type": "code",
   "execution_count": null,
   "id": "67167412-2cd6-41e6-9791-51116f1b054a",
   "metadata": {},
   "outputs": [],
   "source": []
  }
 ],
 "metadata": {
  "kernelspec": {
   "display_name": "Python 3 (ipykernel)",
   "language": "python",
   "name": "python3"
  },
  "language_info": {
   "codemirror_mode": {
    "name": "ipython",
    "version": 3
   },
   "file_extension": ".py",
   "mimetype": "text/x-python",
   "name": "python",
   "nbconvert_exporter": "python",
   "pygments_lexer": "ipython3",
   "version": "3.12.9"
  }
 },
 "nbformat": 4,
 "nbformat_minor": 5
}
